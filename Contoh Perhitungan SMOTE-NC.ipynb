{
 "cells": [
  {
   "cell_type": "code",
   "execution_count": 50,
   "metadata": {
    "scrolled": true
   },
   "outputs": [
    {
     "data": {
      "text/html": [
       "<div>\n",
       "<style scoped>\n",
       "    .dataframe tbody tr th:only-of-type {\n",
       "        vertical-align: middle;\n",
       "    }\n",
       "\n",
       "    .dataframe tbody tr th {\n",
       "        vertical-align: top;\n",
       "    }\n",
       "\n",
       "    .dataframe thead th {\n",
       "        text-align: right;\n",
       "    }\n",
       "</style>\n",
       "<table border=\"1\" class=\"dataframe\">\n",
       "  <thead>\n",
       "    <tr style=\"text-align: right;\">\n",
       "      <th></th>\n",
       "      <th>x1</th>\n",
       "      <th>x2</th>\n",
       "      <th>x3</th>\n",
       "      <th>x4</th>\n",
       "      <th>y</th>\n",
       "    </tr>\n",
       "  </thead>\n",
       "  <tbody>\n",
       "    <tr>\n",
       "      <th>0</th>\n",
       "      <td>1</td>\n",
       "      <td>3</td>\n",
       "      <td>11</td>\n",
       "      <td>a</td>\n",
       "      <td>1</td>\n",
       "    </tr>\n",
       "    <tr>\n",
       "      <th>1</th>\n",
       "      <td>21</td>\n",
       "      <td>5</td>\n",
       "      <td>14</td>\n",
       "      <td>b</td>\n",
       "      <td>1</td>\n",
       "    </tr>\n",
       "    <tr>\n",
       "      <th>2</th>\n",
       "      <td>14</td>\n",
       "      <td>11</td>\n",
       "      <td>28</td>\n",
       "      <td>a</td>\n",
       "      <td>2</td>\n",
       "    </tr>\n",
       "    <tr>\n",
       "      <th>3</th>\n",
       "      <td>2</td>\n",
       "      <td>42</td>\n",
       "      <td>19</td>\n",
       "      <td>b</td>\n",
       "      <td>2</td>\n",
       "    </tr>\n",
       "    <tr>\n",
       "      <th>4</th>\n",
       "      <td>12</td>\n",
       "      <td>22</td>\n",
       "      <td>43</td>\n",
       "      <td>a</td>\n",
       "      <td>2</td>\n",
       "    </tr>\n",
       "    <tr>\n",
       "      <th>5</th>\n",
       "      <td>22</td>\n",
       "      <td>11</td>\n",
       "      <td>23</td>\n",
       "      <td>b</td>\n",
       "      <td>1</td>\n",
       "    </tr>\n",
       "    <tr>\n",
       "      <th>6</th>\n",
       "      <td>1</td>\n",
       "      <td>2</td>\n",
       "      <td>12</td>\n",
       "      <td>b</td>\n",
       "      <td>1</td>\n",
       "    </tr>\n",
       "    <tr>\n",
       "      <th>7</th>\n",
       "      <td>9</td>\n",
       "      <td>22</td>\n",
       "      <td>19</td>\n",
       "      <td>a</td>\n",
       "      <td>1</td>\n",
       "    </tr>\n",
       "    <tr>\n",
       "      <th>8</th>\n",
       "      <td>2</td>\n",
       "      <td>12</td>\n",
       "      <td>11</td>\n",
       "      <td>b</td>\n",
       "      <td>1</td>\n",
       "    </tr>\n",
       "    <tr>\n",
       "      <th>9</th>\n",
       "      <td>4</td>\n",
       "      <td>14</td>\n",
       "      <td>27</td>\n",
       "      <td>b</td>\n",
       "      <td>1</td>\n",
       "    </tr>\n",
       "  </tbody>\n",
       "</table>\n",
       "</div>"
      ],
      "text/plain": [
       "   x1  x2  x3 x4  y\n",
       "0   1   3  11  a  1\n",
       "1  21   5  14  b  1\n",
       "2  14  11  28  a  2\n",
       "3   2  42  19  b  2\n",
       "4  12  22  43  a  2\n",
       "5  22  11  23  b  1\n",
       "6   1   2  12  b  1\n",
       "7   9  22  19  a  1\n",
       "8   2  12  11  b  1\n",
       "9   4  14  27  b  1"
      ]
     },
     "execution_count": 50,
     "metadata": {},
     "output_type": "execute_result"
    }
   ],
   "source": [
    "import pandas as pd\n",
    "\n",
    "data = {'x1': [1,21,14,2,12,22,1,9,2,4],\n",
    "        'x2' : [3,5,11,42,22,11,2,22,12,14],\n",
    "        'x3': [11,14,28,19,43,23,12,19,11,27],\n",
    "        'x4' : ['a','b','a','b','a','b','b','a','b','b'],\n",
    "        'y' : [1,1,2,2,2,1,1,1,1,1]}\n",
    "\n",
    "df = pd.DataFrame(data)\n",
    "\n",
    "df.head(10)"
   ]
  },
  {
   "cell_type": "markdown",
   "metadata": {},
   "source": [
    "### Boxplot Akurasi"
   ]
  },
  {
   "cell_type": "code",
   "execution_count": 4,
   "metadata": {},
   "outputs": [
    {
     "data": {
      "text/html": [
       "<div>\n",
       "<style scoped>\n",
       "    .dataframe tbody tr th:only-of-type {\n",
       "        vertical-align: middle;\n",
       "    }\n",
       "\n",
       "    .dataframe tbody tr th {\n",
       "        vertical-align: top;\n",
       "    }\n",
       "\n",
       "    .dataframe thead th {\n",
       "        text-align: right;\n",
       "    }\n",
       "</style>\n",
       "<table border=\"1\" class=\"dataframe\">\n",
       "  <thead>\n",
       "    <tr style=\"text-align: right;\">\n",
       "      <th></th>\n",
       "      <th>Model 1</th>\n",
       "      <th>Model 2</th>\n",
       "      <th>Model 3</th>\n",
       "      <th>Model 4</th>\n",
       "    </tr>\n",
       "  </thead>\n",
       "  <tbody>\n",
       "    <tr>\n",
       "      <th>0</th>\n",
       "      <td>0.968586</td>\n",
       "      <td>0.958115</td>\n",
       "      <td>0.977987</td>\n",
       "      <td>0.977987</td>\n",
       "    </tr>\n",
       "    <tr>\n",
       "      <th>1</th>\n",
       "      <td>0.989529</td>\n",
       "      <td>0.963351</td>\n",
       "      <td>0.987421</td>\n",
       "      <td>0.987421</td>\n",
       "    </tr>\n",
       "    <tr>\n",
       "      <th>2</th>\n",
       "      <td>0.979058</td>\n",
       "      <td>0.989529</td>\n",
       "      <td>0.974843</td>\n",
       "      <td>0.968553</td>\n",
       "    </tr>\n",
       "    <tr>\n",
       "      <th>3</th>\n",
       "      <td>0.963351</td>\n",
       "      <td>0.963351</td>\n",
       "      <td>0.990536</td>\n",
       "      <td>0.990536</td>\n",
       "    </tr>\n",
       "    <tr>\n",
       "      <th>4</th>\n",
       "      <td>0.973822</td>\n",
       "      <td>0.973822</td>\n",
       "      <td>0.993691</td>\n",
       "      <td>0.990536</td>\n",
       "    </tr>\n",
       "  </tbody>\n",
       "</table>\n",
       "</div>"
      ],
      "text/plain": [
       "    Model 1   Model 2   Model 3   Model 4\n",
       "0  0.968586  0.958115  0.977987  0.977987\n",
       "1  0.989529  0.963351  0.987421  0.987421\n",
       "2  0.979058  0.989529  0.974843  0.968553\n",
       "3  0.963351  0.963351  0.990536  0.990536\n",
       "4  0.973822  0.973822  0.993691  0.990536"
      ]
     },
     "execution_count": 4,
     "metadata": {},
     "output_type": "execute_result"
    }
   ],
   "source": [
    "import pandas as pd\n",
    "\n",
    "cv_akurasi = {'Model 1': [0.9685863, 0.9895287, 0.9790575, 0.9633507, 0.9738219],\n",
    "        'Model 2': [0.9581151, 0.9633507, 0.9895287, 0.9633507, 0.9738219],\n",
    "        'Model 3': [0.9779874, 0.9874213, 0.9748427, 0.9905362, 0.9936908],\n",
    "        'Model 4': [0.9779874, 0.9874213, 0.9685534, 0.9905362, 0.9905362]}\n",
    "\n",
    "df_akurasi = pd.DataFrame(cv_akurasi)\n",
    "\n",
    "df_akurasi.head(5)"
   ]
  },
  {
   "cell_type": "code",
   "execution_count": 2,
   "metadata": {},
   "outputs": [
    {
     "data": {
      "text/html": [
       "<div>\n",
       "<style scoped>\n",
       "    .dataframe tbody tr th:only-of-type {\n",
       "        vertical-align: middle;\n",
       "    }\n",
       "\n",
       "    .dataframe tbody tr th {\n",
       "        vertical-align: top;\n",
       "    }\n",
       "\n",
       "    .dataframe thead th {\n",
       "        text-align: right;\n",
       "    }\n",
       "</style>\n",
       "<table border=\"1\" class=\"dataframe\">\n",
       "  <thead>\n",
       "    <tr style=\"text-align: right;\">\n",
       "      <th></th>\n",
       "      <th>Model 1</th>\n",
       "      <th>Model 2</th>\n",
       "      <th>Model 3</th>\n",
       "      <th>Model 4</th>\n",
       "    </tr>\n",
       "  </thead>\n",
       "  <tbody>\n",
       "    <tr>\n",
       "      <th>count</th>\n",
       "      <td>5.000000</td>\n",
       "      <td>5.000000</td>\n",
       "      <td>5.000000</td>\n",
       "      <td>5.000000</td>\n",
       "    </tr>\n",
       "    <tr>\n",
       "      <th>mean</th>\n",
       "      <td>0.974869</td>\n",
       "      <td>0.969633</td>\n",
       "      <td>0.984896</td>\n",
       "      <td>0.983007</td>\n",
       "    </tr>\n",
       "    <tr>\n",
       "      <th>std</th>\n",
       "      <td>0.010071</td>\n",
       "      <td>0.012500</td>\n",
       "      <td>0.008129</td>\n",
       "      <td>0.009578</td>\n",
       "    </tr>\n",
       "    <tr>\n",
       "      <th>min</th>\n",
       "      <td>0.963351</td>\n",
       "      <td>0.958115</td>\n",
       "      <td>0.974843</td>\n",
       "      <td>0.968553</td>\n",
       "    </tr>\n",
       "    <tr>\n",
       "      <th>25%</th>\n",
       "      <td>0.968586</td>\n",
       "      <td>0.963351</td>\n",
       "      <td>0.977987</td>\n",
       "      <td>0.977987</td>\n",
       "    </tr>\n",
       "    <tr>\n",
       "      <th>50%</th>\n",
       "      <td>0.973822</td>\n",
       "      <td>0.963351</td>\n",
       "      <td>0.987421</td>\n",
       "      <td>0.987421</td>\n",
       "    </tr>\n",
       "    <tr>\n",
       "      <th>75%</th>\n",
       "      <td>0.979058</td>\n",
       "      <td>0.973822</td>\n",
       "      <td>0.990536</td>\n",
       "      <td>0.990536</td>\n",
       "    </tr>\n",
       "    <tr>\n",
       "      <th>max</th>\n",
       "      <td>0.989529</td>\n",
       "      <td>0.989529</td>\n",
       "      <td>0.993691</td>\n",
       "      <td>0.990536</td>\n",
       "    </tr>\n",
       "  </tbody>\n",
       "</table>\n",
       "</div>"
      ],
      "text/plain": [
       "        Model 1   Model 2   Model 3   Model 4\n",
       "count  5.000000  5.000000  5.000000  5.000000\n",
       "mean   0.974869  0.969633  0.984896  0.983007\n",
       "std    0.010071  0.012500  0.008129  0.009578\n",
       "min    0.963351  0.958115  0.974843  0.968553\n",
       "25%    0.968586  0.963351  0.977987  0.977987\n",
       "50%    0.973822  0.963351  0.987421  0.987421\n",
       "75%    0.979058  0.973822  0.990536  0.990536\n",
       "max    0.989529  0.989529  0.993691  0.990536"
      ]
     },
     "execution_count": 2,
     "metadata": {},
     "output_type": "execute_result"
    }
   ],
   "source": [
    "df_akurasi.describe(include='all')"
   ]
  },
  {
   "cell_type": "code",
   "execution_count": 3,
   "metadata": {},
   "outputs": [
    {
     "data": {
      "image/png": "[encoded data removed]",
      "text/plain": [
       "<Figure size 432x288 with 1 Axes>"
      ]
     },
     "metadata": {
      "needs_background": "light"
     },
     "output_type": "display_data"
    }
   ],
   "source": [
    "import matplotlib.pyplot as plt\n",
    "\n",
    "df_akurasi.plot(kind='box', figsize=(6, 4))\n",
    "\n",
    "plt.title('Box Plot Akurasi Model dari 5-Fold Cross Validation \\n', size=14)\n",
    "plt.show()"
   ]
  },
  {
   "cell_type": "markdown",
   "metadata": {},
   "source": [
    "### Box Plot AUC"
   ]
  },
  {
   "cell_type": "code",
   "execution_count": 5,
   "metadata": {},
   "outputs": [
    {
     "data": {
      "text/html": [
       "<div>\n",
       "<style scoped>\n",
       "    .dataframe tbody tr th:only-of-type {\n",
       "        vertical-align: middle;\n",
       "    }\n",
       "\n",
       "    .dataframe tbody tr th {\n",
       "        vertical-align: top;\n",
       "    }\n",
       "\n",
       "    .dataframe thead th {\n",
       "        text-align: right;\n",
       "    }\n",
       "</style>\n",
       "<table border=\"1\" class=\"dataframe\">\n",
       "  <thead>\n",
       "    <tr style=\"text-align: right;\">\n",
       "      <th></th>\n",
       "      <th>Model 1</th>\n",
       "      <th>Model 2</th>\n",
       "      <th>Model 3</th>\n",
       "      <th>Model 4</th>\n",
       "    </tr>\n",
       "  </thead>\n",
       "  <tbody>\n",
       "    <tr>\n",
       "      <th>0</th>\n",
       "      <td>0.993168</td>\n",
       "      <td>0.991097</td>\n",
       "      <td>0.998239</td>\n",
       "      <td>0.997599</td>\n",
       "    </tr>\n",
       "    <tr>\n",
       "      <th>1</th>\n",
       "      <td>0.999607</td>\n",
       "      <td>0.994300</td>\n",
       "      <td>0.998020</td>\n",
       "      <td>0.997308</td>\n",
       "    </tr>\n",
       "    <tr>\n",
       "      <th>2</th>\n",
       "      <td>0.993506</td>\n",
       "      <td>0.994735</td>\n",
       "      <td>0.994696</td>\n",
       "      <td>0.994340</td>\n",
       "    </tr>\n",
       "    <tr>\n",
       "      <th>3</th>\n",
       "      <td>0.985081</td>\n",
       "      <td>0.983266</td>\n",
       "      <td>0.998327</td>\n",
       "      <td>0.998487</td>\n",
       "    </tr>\n",
       "    <tr>\n",
       "      <th>4</th>\n",
       "      <td>0.991532</td>\n",
       "      <td>0.992641</td>\n",
       "      <td>0.999363</td>\n",
       "      <td>0.999163</td>\n",
       "    </tr>\n",
       "  </tbody>\n",
       "</table>\n",
       "</div>"
      ],
      "text/plain": [
       "    Model 1   Model 2   Model 3   Model 4\n",
       "0  0.993168  0.991097  0.998239  0.997599\n",
       "1  0.999607  0.994300  0.998020  0.997308\n",
       "2  0.993506  0.994735  0.994696  0.994340\n",
       "3  0.985081  0.983266  0.998327  0.998487\n",
       "4  0.991532  0.992641  0.999363  0.999163"
      ]
     },
     "execution_count": 5,
     "metadata": {},
     "output_type": "execute_result"
    }
   ],
   "source": [
    "import pandas as pd\n",
    "\n",
    "cv_auc = {'Model 1': [0.9931677, 0.9996069, 0.9935064, 0.9850806, 0.9915322],\n",
    "        'Model 2': [0.9910973, 0.9943003, 0.9947349, 0.983266129, 0.9926411297],\n",
    "        'Model 3': [0.9982394, 0.9980202, 0.9946962, 0.9983273, 0.9993626],\n",
    "        'Model 4': [0.9975992, 0.9973075, 0.994339996, 0.9984866, 0.9991634]}\n",
    "\n",
    "df_auc = pd.DataFrame(cv_auc)\n",
    "\n",
    "df_auc.head(5)"
   ]
  },
  {
   "cell_type": "code",
   "execution_count": 6,
   "metadata": {},
   "outputs": [
    {
     "data": {
      "text/html": [
       "<div>\n",
       "<style scoped>\n",
       "    .dataframe tbody tr th:only-of-type {\n",
       "        vertical-align: middle;\n",
       "    }\n",
       "\n",
       "    .dataframe tbody tr th {\n",
       "        vertical-align: top;\n",
       "    }\n",
       "\n",
       "    .dataframe thead th {\n",
       "        text-align: right;\n",
       "    }\n",
       "</style>\n",
       "<table border=\"1\" class=\"dataframe\">\n",
       "  <thead>\n",
       "    <tr style=\"text-align: right;\">\n",
       "      <th></th>\n",
       "      <th>Model 1</th>\n",
       "      <th>Model 2</th>\n",
       "      <th>Model 3</th>\n",
       "      <th>Model 4</th>\n",
       "    </tr>\n",
       "  </thead>\n",
       "  <tbody>\n",
       "    <tr>\n",
       "      <th>count</th>\n",
       "      <td>5.000000</td>\n",
       "      <td>5.000000</td>\n",
       "      <td>5.000000</td>\n",
       "      <td>5.000000</td>\n",
       "    </tr>\n",
       "    <tr>\n",
       "      <th>mean</th>\n",
       "      <td>0.992579</td>\n",
       "      <td>0.991208</td>\n",
       "      <td>0.997729</td>\n",
       "      <td>0.997379</td>\n",
       "    </tr>\n",
       "    <tr>\n",
       "      <th>std</th>\n",
       "      <td>0.005194</td>\n",
       "      <td>0.004667</td>\n",
       "      <td>0.001773</td>\n",
       "      <td>0.001851</td>\n",
       "    </tr>\n",
       "    <tr>\n",
       "      <th>min</th>\n",
       "      <td>0.985081</td>\n",
       "      <td>0.983266</td>\n",
       "      <td>0.994696</td>\n",
       "      <td>0.994340</td>\n",
       "    </tr>\n",
       "    <tr>\n",
       "      <th>25%</th>\n",
       "      <td>0.991532</td>\n",
       "      <td>0.991097</td>\n",
       "      <td>0.998020</td>\n",
       "      <td>0.997308</td>\n",
       "    </tr>\n",
       "    <tr>\n",
       "      <th>50%</th>\n",
       "      <td>0.993168</td>\n",
       "      <td>0.992641</td>\n",
       "      <td>0.998239</td>\n",
       "      <td>0.997599</td>\n",
       "    </tr>\n",
       "    <tr>\n",
       "      <th>75%</th>\n",
       "      <td>0.993506</td>\n",
       "      <td>0.994300</td>\n",
       "      <td>0.998327</td>\n",
       "      <td>0.998487</td>\n",
       "    </tr>\n",
       "    <tr>\n",
       "      <th>max</th>\n",
       "      <td>0.999607</td>\n",
       "      <td>0.994735</td>\n",
       "      <td>0.999363</td>\n",
       "      <td>0.999163</td>\n",
       "    </tr>\n",
       "  </tbody>\n",
       "</table>\n",
       "</div>"
      ],
      "text/plain": [
       "        Model 1   Model 2   Model 3   Model 4\n",
       "count  5.000000  5.000000  5.000000  5.000000\n",
       "mean   0.992579  0.991208  0.997729  0.997379\n",
       "std    0.005194  0.004667  0.001773  0.001851\n",
       "min    0.985081  0.983266  0.994696  0.994340\n",
       "25%    0.991532  0.991097  0.998020  0.997308\n",
       "50%    0.993168  0.992641  0.998239  0.997599\n",
       "75%    0.993506  0.994300  0.998327  0.998487\n",
       "max    0.999607  0.994735  0.999363  0.999163"
      ]
     },
     "execution_count": 6,
     "metadata": {},
     "output_type": "execute_result"
    }
   ],
   "source": [
    "df_auc.describe(include='all')"
   ]
  },
  {
   "cell_type": "code",
   "execution_count": 7,
   "metadata": {},
   "outputs": [
    {
     "data": {
      "image/png": "[encoded data removed]",
      "text/plain": [
       "<Figure size 432x288 with 1 Axes>"
      ]
     },
     "metadata": {
      "needs_background": "light"
     },
     "output_type": "display_data"
    }
   ],
   "source": [
    "import matplotlib.pyplot as plt\n",
    "\n",
    "df_auc.plot(kind='box', figsize=(6, 4))\n",
    "\n",
    "plt.title('Box Plot Nilai AUC Model dari 5-Fold Cross Validation \\n', size=14)\n",
    "plt.show()"
   ]
  },
  {
   "cell_type": "markdown",
   "metadata": {},
   "source": [
    "### Box Plot Presisi"
   ]
  },
  {
   "cell_type": "code",
   "execution_count": 8,
   "metadata": {},
   "outputs": [
    {
     "data": {
      "text/html": [
       "<div>\n",
       "<style scoped>\n",
       "    .dataframe tbody tr th:only-of-type {\n",
       "        vertical-align: middle;\n",
       "    }\n",
       "\n",
       "    .dataframe tbody tr th {\n",
       "        vertical-align: top;\n",
       "    }\n",
       "\n",
       "    .dataframe thead th {\n",
       "        text-align: right;\n",
       "    }\n",
       "</style>\n",
       "<table border=\"1\" class=\"dataframe\">\n",
       "  <thead>\n",
       "    <tr style=\"text-align: right;\">\n",
       "      <th></th>\n",
       "      <th>Model 1</th>\n",
       "      <th>Model 2</th>\n",
       "      <th>Model 3</th>\n",
       "      <th>Model 4</th>\n",
       "    </tr>\n",
       "  </thead>\n",
       "  <tbody>\n",
       "    <tr>\n",
       "      <th>0</th>\n",
       "      <td>0.875000</td>\n",
       "      <td>0.823529</td>\n",
       "      <td>0.971223</td>\n",
       "      <td>0.959184</td>\n",
       "    </tr>\n",
       "    <tr>\n",
       "      <th>1</th>\n",
       "      <td>1.000000</td>\n",
       "      <td>0.931034</td>\n",
       "      <td>0.981928</td>\n",
       "      <td>0.987805</td>\n",
       "    </tr>\n",
       "    <tr>\n",
       "      <th>2</th>\n",
       "      <td>0.923077</td>\n",
       "      <td>0.948718</td>\n",
       "      <td>0.975460</td>\n",
       "      <td>0.969136</td>\n",
       "    </tr>\n",
       "    <tr>\n",
       "      <th>3</th>\n",
       "      <td>0.900000</td>\n",
       "      <td>0.900000</td>\n",
       "      <td>1.000000</td>\n",
       "      <td>0.993789</td>\n",
       "    </tr>\n",
       "    <tr>\n",
       "      <th>4</th>\n",
       "      <td>1.000000</td>\n",
       "      <td>0.964286</td>\n",
       "      <td>0.987879</td>\n",
       "      <td>0.981928</td>\n",
       "    </tr>\n",
       "  </tbody>\n",
       "</table>\n",
       "</div>"
      ],
      "text/plain": [
       "    Model 1   Model 2   Model 3   Model 4\n",
       "0  0.875000  0.823529  0.971223  0.959184\n",
       "1  1.000000  0.931034  0.981928  0.987805\n",
       "2  0.923077  0.948718  0.975460  0.969136\n",
       "3  0.900000  0.900000  1.000000  0.993789\n",
       "4  1.000000  0.964286  0.987879  0.981928"
      ]
     },
     "execution_count": 8,
     "metadata": {},
     "output_type": "execute_result"
    }
   ],
   "source": [
    "import pandas as pd\n",
    "\n",
    "cv_presisi = {'Model 1': [0.875, 1, 0.9230769, 0.9, 1],\n",
    "        'Model 2': [0.8235294, 0.9310344, 0.9487179, 0.9, 0.9642857],\n",
    "        'Model 3': [0.9712230, 0.9819277, 0.9754601, 1, 0.9878787],\n",
    "        'Model 4': [0.9591836, 0.987804878, 0.9691358, 0.9937888, 0.9819277]}\n",
    "\n",
    "df_presisi = pd.DataFrame(cv_presisi)\n",
    "\n",
    "df_presisi.head(5)"
   ]
  },
  {
   "cell_type": "code",
   "execution_count": 9,
   "metadata": {},
   "outputs": [
    {
     "data": {
      "text/html": [
       "<div>\n",
       "<style scoped>\n",
       "    .dataframe tbody tr th:only-of-type {\n",
       "        vertical-align: middle;\n",
       "    }\n",
       "\n",
       "    .dataframe tbody tr th {\n",
       "        vertical-align: top;\n",
       "    }\n",
       "\n",
       "    .dataframe thead th {\n",
       "        text-align: right;\n",
       "    }\n",
       "</style>\n",
       "<table border=\"1\" class=\"dataframe\">\n",
       "  <thead>\n",
       "    <tr style=\"text-align: right;\">\n",
       "      <th></th>\n",
       "      <th>Model 1</th>\n",
       "      <th>Model 2</th>\n",
       "      <th>Model 3</th>\n",
       "      <th>Model 4</th>\n",
       "    </tr>\n",
       "  </thead>\n",
       "  <tbody>\n",
       "    <tr>\n",
       "      <th>count</th>\n",
       "      <td>5.000000</td>\n",
       "      <td>5.000000</td>\n",
       "      <td>5.000000</td>\n",
       "      <td>5.000000</td>\n",
       "    </tr>\n",
       "    <tr>\n",
       "      <th>mean</th>\n",
       "      <td>0.939615</td>\n",
       "      <td>0.913513</td>\n",
       "      <td>0.983298</td>\n",
       "      <td>0.978368</td>\n",
       "    </tr>\n",
       "    <tr>\n",
       "      <th>std</th>\n",
       "      <td>0.057686</td>\n",
       "      <td>0.055686</td>\n",
       "      <td>0.011281</td>\n",
       "      <td>0.014078</td>\n",
       "    </tr>\n",
       "    <tr>\n",
       "      <th>min</th>\n",
       "      <td>0.875000</td>\n",
       "      <td>0.823529</td>\n",
       "      <td>0.971223</td>\n",
       "      <td>0.959184</td>\n",
       "    </tr>\n",
       "    <tr>\n",
       "      <th>25%</th>\n",
       "      <td>0.900000</td>\n",
       "      <td>0.900000</td>\n",
       "      <td>0.975460</td>\n",
       "      <td>0.969136</td>\n",
       "    </tr>\n",
       "    <tr>\n",
       "      <th>50%</th>\n",
       "      <td>0.923077</td>\n",
       "      <td>0.931034</td>\n",
       "      <td>0.981928</td>\n",
       "      <td>0.981928</td>\n",
       "    </tr>\n",
       "    <tr>\n",
       "      <th>75%</th>\n",
       "      <td>1.000000</td>\n",
       "      <td>0.948718</td>\n",
       "      <td>0.987879</td>\n",
       "      <td>0.987805</td>\n",
       "    </tr>\n",
       "    <tr>\n",
       "      <th>max</th>\n",
       "      <td>1.000000</td>\n",
       "      <td>0.964286</td>\n",
       "      <td>1.000000</td>\n",
       "      <td>0.993789</td>\n",
       "    </tr>\n",
       "  </tbody>\n",
       "</table>\n",
       "</div>"
      ],
      "text/plain": [
       "        Model 1   Model 2   Model 3   Model 4\n",
       "count  5.000000  5.000000  5.000000  5.000000\n",
       "mean   0.939615  0.913513  0.983298  0.978368\n",
       "std    0.057686  0.055686  0.011281  0.014078\n",
       "min    0.875000  0.823529  0.971223  0.959184\n",
       "25%    0.900000  0.900000  0.975460  0.969136\n",
       "50%    0.923077  0.931034  0.981928  0.981928\n",
       "75%    1.000000  0.948718  0.987879  0.987805\n",
       "max    1.000000  0.964286  1.000000  0.993789"
      ]
     },
     "execution_count": 9,
     "metadata": {},
     "output_type": "execute_result"
    }
   ],
   "source": [
    "df_presisi.describe(include='all')"
   ]
  },
  {
   "cell_type": "code",
   "execution_count": 10,
   "metadata": {},
   "outputs": [
    {
     "data": {
      "image/png": "[encoded data removed]",
      "text/plain": [
       "<Figure size 432x288 with 1 Axes>"
      ]
     },
     "metadata": {
      "needs_background": "light"
     },
     "output_type": "display_data"
    }
   ],
   "source": [
    "import matplotlib.pyplot as plt\n",
    "\n",
    "df_presisi.plot(kind='box', figsize=(6, 4))\n",
    "\n",
    "plt.title('Box Plot Nilai Presisi Model dari 5-Fold Cross Validation \\n', size=14)\n",
    "plt.show()"
   ]
  },
  {
   "cell_type": "markdown",
   "metadata": {},
   "source": [
    "### Box Plot Recall"
   ]
  },
  {
   "cell_type": "code",
   "execution_count": 11,
   "metadata": {},
   "outputs": [
    {
     "data": {
      "text/html": [
       "<div>\n",
       "<style scoped>\n",
       "    .dataframe tbody tr th:only-of-type {\n",
       "        vertical-align: middle;\n",
       "    }\n",
       "\n",
       "    .dataframe tbody tr th {\n",
       "        vertical-align: top;\n",
       "    }\n",
       "\n",
       "    .dataframe thead th {\n",
       "        text-align: right;\n",
       "    }\n",
       "</style>\n",
       "<table border=\"1\" class=\"dataframe\">\n",
       "  <thead>\n",
       "    <tr style=\"text-align: right;\">\n",
       "      <th></th>\n",
       "      <th>Model 1</th>\n",
       "      <th>Model 2</th>\n",
       "      <th>Model 3</th>\n",
       "      <th>Model 4</th>\n",
       "    </tr>\n",
       "  </thead>\n",
       "  <tbody>\n",
       "    <tr>\n",
       "      <th>0</th>\n",
       "      <td>0.933333</td>\n",
       "      <td>0.933333</td>\n",
       "      <td>0.985915</td>\n",
       "      <td>0.992958</td>\n",
       "    </tr>\n",
       "    <tr>\n",
       "      <th>1</th>\n",
       "      <td>0.937500</td>\n",
       "      <td>0.906250</td>\n",
       "      <td>1.000000</td>\n",
       "      <td>0.993902</td>\n",
       "    </tr>\n",
       "    <tr>\n",
       "      <th>2</th>\n",
       "      <td>0.972973</td>\n",
       "      <td>1.000000</td>\n",
       "      <td>0.975460</td>\n",
       "      <td>0.987730</td>\n",
       "    </tr>\n",
       "    <tr>\n",
       "      <th>3</th>\n",
       "      <td>0.903226</td>\n",
       "      <td>0.903226</td>\n",
       "      <td>0.981481</td>\n",
       "      <td>0.987654</td>\n",
       "    </tr>\n",
       "    <tr>\n",
       "      <th>4</th>\n",
       "      <td>0.870968</td>\n",
       "      <td>0.870968</td>\n",
       "      <td>1.000000</td>\n",
       "      <td>1.000000</td>\n",
       "    </tr>\n",
       "  </tbody>\n",
       "</table>\n",
       "</div>"
      ],
      "text/plain": [
       "    Model 1   Model 2   Model 3   Model 4\n",
       "0  0.933333  0.933333  0.985915  0.992958\n",
       "1  0.937500  0.906250  1.000000  0.993902\n",
       "2  0.972973  1.000000  0.975460  0.987730\n",
       "3  0.903226  0.903226  0.981481  0.987654\n",
       "4  0.870968  0.870968  1.000000  1.000000"
      ]
     },
     "execution_count": 11,
     "metadata": {},
     "output_type": "execute_result"
    }
   ],
   "source": [
    "import pandas as pd\n",
    "\n",
    "cv_recall = {'Model 1': [0.9333333, 0.9375, 0.972972973, 0.9032258, 0.8709677],\n",
    "        'Model 2': [0.9333333, 0.90625, 1, 0.9032258, 0.8709677],\n",
    "        'Model 3': [0.985915493, 1, 0.9754601, 0.9814814, 1],\n",
    "        'Model 4': [0.9929577, 0.993902439, 0.9877300, 0.987654321, 1]}\n",
    "\n",
    "df_recall = pd.DataFrame(cv_recall)\n",
    "\n",
    "df_recall.head(5)"
   ]
  },
  {
   "cell_type": "code",
   "execution_count": 12,
   "metadata": {},
   "outputs": [
    {
     "data": {
      "text/html": [
       "<div>\n",
       "<style scoped>\n",
       "    .dataframe tbody tr th:only-of-type {\n",
       "        vertical-align: middle;\n",
       "    }\n",
       "\n",
       "    .dataframe tbody tr th {\n",
       "        vertical-align: top;\n",
       "    }\n",
       "\n",
       "    .dataframe thead th {\n",
       "        text-align: right;\n",
       "    }\n",
       "</style>\n",
       "<table border=\"1\" class=\"dataframe\">\n",
       "  <thead>\n",
       "    <tr style=\"text-align: right;\">\n",
       "      <th></th>\n",
       "      <th>Model 1</th>\n",
       "      <th>Model 2</th>\n",
       "      <th>Model 3</th>\n",
       "      <th>Model 4</th>\n",
       "    </tr>\n",
       "  </thead>\n",
       "  <tbody>\n",
       "    <tr>\n",
       "      <th>count</th>\n",
       "      <td>5.000000</td>\n",
       "      <td>5.000000</td>\n",
       "      <td>5.000000</td>\n",
       "      <td>5.000000</td>\n",
       "    </tr>\n",
       "    <tr>\n",
       "      <th>mean</th>\n",
       "      <td>0.923600</td>\n",
       "      <td>0.922755</td>\n",
       "      <td>0.988571</td>\n",
       "      <td>0.992449</td>\n",
       "    </tr>\n",
       "    <tr>\n",
       "      <th>std</th>\n",
       "      <td>0.038441</td>\n",
       "      <td>0.048514</td>\n",
       "      <td>0.011073</td>\n",
       "      <td>0.005115</td>\n",
       "    </tr>\n",
       "    <tr>\n",
       "      <th>min</th>\n",
       "      <td>0.870968</td>\n",
       "      <td>0.870968</td>\n",
       "      <td>0.975460</td>\n",
       "      <td>0.987654</td>\n",
       "    </tr>\n",
       "    <tr>\n",
       "      <th>25%</th>\n",
       "      <td>0.903226</td>\n",
       "      <td>0.903226</td>\n",
       "      <td>0.981481</td>\n",
       "      <td>0.987730</td>\n",
       "    </tr>\n",
       "    <tr>\n",
       "      <th>50%</th>\n",
       "      <td>0.933333</td>\n",
       "      <td>0.906250</td>\n",
       "      <td>0.985915</td>\n",
       "      <td>0.992958</td>\n",
       "    </tr>\n",
       "    <tr>\n",
       "      <th>75%</th>\n",
       "      <td>0.937500</td>\n",
       "      <td>0.933333</td>\n",
       "      <td>1.000000</td>\n",
       "      <td>0.993902</td>\n",
       "    </tr>\n",
       "    <tr>\n",
       "      <th>max</th>\n",
       "      <td>0.972973</td>\n",
       "      <td>1.000000</td>\n",
       "      <td>1.000000</td>\n",
       "      <td>1.000000</td>\n",
       "    </tr>\n",
       "  </tbody>\n",
       "</table>\n",
       "</div>"
      ],
      "text/plain": [
       "        Model 1   Model 2   Model 3   Model 4\n",
       "count  5.000000  5.000000  5.000000  5.000000\n",
       "mean   0.923600  0.922755  0.988571  0.992449\n",
       "std    0.038441  0.048514  0.011073  0.005115\n",
       "min    0.870968  0.870968  0.975460  0.987654\n",
       "25%    0.903226  0.903226  0.981481  0.987730\n",
       "50%    0.933333  0.906250  0.985915  0.992958\n",
       "75%    0.937500  0.933333  1.000000  0.993902\n",
       "max    0.972973  1.000000  1.000000  1.000000"
      ]
     },
     "execution_count": 12,
     "metadata": {},
     "output_type": "execute_result"
    }
   ],
   "source": [
    "df_recall.describe(include='all')"
   ]
  },
  {
   "cell_type": "code",
   "execution_count": 13,
   "metadata": {},
   "outputs": [
    {
     "data": {
      "image/png": "[encoded data removed]",
      "text/plain": [
       "<Figure size 432x288 with 1 Axes>"
      ]
     },
     "metadata": {
      "needs_background": "light"
     },
     "output_type": "display_data"
    }
   ],
   "source": [
    "import matplotlib.pyplot as plt\n",
    "\n",
    "df_recall.plot(kind='box', figsize=(6, 4))\n",
    "\n",
    "plt.title('Box Plot Nilai Recall Model dari 5-Fold Cross Validation \\n', size=14)\n",
    "plt.show()"
   ]
  },
  {
   "cell_type": "markdown",
   "metadata": {},
   "source": [
    "### Box Plot F1 Score"
   ]
  },
  {
   "cell_type": "code",
   "execution_count": 14,
   "metadata": {},
   "outputs": [
    {
     "data": {
      "text/html": [
       "<div>\n",
       "<style scoped>\n",
       "    .dataframe tbody tr th:only-of-type {\n",
       "        vertical-align: middle;\n",
       "    }\n",
       "\n",
       "    .dataframe tbody tr th {\n",
       "        vertical-align: top;\n",
       "    }\n",
       "\n",
       "    .dataframe thead th {\n",
       "        text-align: right;\n",
       "    }\n",
       "</style>\n",
       "<table border=\"1\" class=\"dataframe\">\n",
       "  <thead>\n",
       "    <tr style=\"text-align: right;\">\n",
       "      <th></th>\n",
       "      <th>Model 1</th>\n",
       "      <th>Model 2</th>\n",
       "      <th>Model 3</th>\n",
       "      <th>Model 4</th>\n",
       "    </tr>\n",
       "  </thead>\n",
       "  <tbody>\n",
       "    <tr>\n",
       "      <th>0</th>\n",
       "      <td>0.903226</td>\n",
       "      <td>0.875000</td>\n",
       "      <td>0.975610</td>\n",
       "      <td>0.975778</td>\n",
       "    </tr>\n",
       "    <tr>\n",
       "      <th>1</th>\n",
       "      <td>0.967742</td>\n",
       "      <td>0.892308</td>\n",
       "      <td>0.987952</td>\n",
       "      <td>0.987879</td>\n",
       "    </tr>\n",
       "    <tr>\n",
       "      <th>2</th>\n",
       "      <td>0.947368</td>\n",
       "      <td>0.973684</td>\n",
       "      <td>0.975460</td>\n",
       "      <td>0.969512</td>\n",
       "    </tr>\n",
       "    <tr>\n",
       "      <th>3</th>\n",
       "      <td>0.885246</td>\n",
       "      <td>0.885246</td>\n",
       "      <td>0.990654</td>\n",
       "      <td>0.990712</td>\n",
       "    </tr>\n",
       "    <tr>\n",
       "      <th>4</th>\n",
       "      <td>0.915254</td>\n",
       "      <td>0.915254</td>\n",
       "      <td>0.993902</td>\n",
       "      <td>0.990881</td>\n",
       "    </tr>\n",
       "  </tbody>\n",
       "</table>\n",
       "</div>"
      ],
      "text/plain": [
       "    Model 1   Model 2   Model 3   Model 4\n",
       "0  0.903226  0.875000  0.975610  0.975778\n",
       "1  0.967742  0.892308  0.987952  0.987879\n",
       "2  0.947368  0.973684  0.975460  0.969512\n",
       "3  0.885246  0.885246  0.990654  0.990712\n",
       "4  0.915254  0.915254  0.993902  0.990881"
      ]
     },
     "execution_count": 14,
     "metadata": {},
     "output_type": "execute_result"
    }
   ],
   "source": [
    "import pandas as pd\n",
    "\n",
    "cv_f1 = {'Model 1': [0.9032258, 0.9677419, 0.9473684, 0.8852459, 0.9152542],\n",
    "        'Model 2': [0.875, 0.8923076, 0.9736842, 0.8852459, 0.9152542],\n",
    "        'Model 3': [0.9756097, 0.9879518, 0.9754601, 0.9906542, 0.9939024398],\n",
    "        'Model 4': [0.9757785, 0.9878787, 0.9695121, 0.9907120, 0.990881459]}\n",
    "\n",
    "df_f1 = pd.DataFrame(cv_f1)\n",
    "\n",
    "df_f1.head(5)"
   ]
  },
  {
   "cell_type": "code",
   "execution_count": 15,
   "metadata": {},
   "outputs": [
    {
     "data": {
      "text/html": [
       "<div>\n",
       "<style scoped>\n",
       "    .dataframe tbody tr th:only-of-type {\n",
       "        vertical-align: middle;\n",
       "    }\n",
       "\n",
       "    .dataframe tbody tr th {\n",
       "        vertical-align: top;\n",
       "    }\n",
       "\n",
       "    .dataframe thead th {\n",
       "        text-align: right;\n",
       "    }\n",
       "</style>\n",
       "<table border=\"1\" class=\"dataframe\">\n",
       "  <thead>\n",
       "    <tr style=\"text-align: right;\">\n",
       "      <th></th>\n",
       "      <th>Model 1</th>\n",
       "      <th>Model 2</th>\n",
       "      <th>Model 3</th>\n",
       "      <th>Model 4</th>\n",
       "    </tr>\n",
       "  </thead>\n",
       "  <tbody>\n",
       "    <tr>\n",
       "      <th>count</th>\n",
       "      <td>5.000000</td>\n",
       "      <td>5.000000</td>\n",
       "      <td>5.000000</td>\n",
       "      <td>5.000000</td>\n",
       "    </tr>\n",
       "    <tr>\n",
       "      <th>mean</th>\n",
       "      <td>0.923767</td>\n",
       "      <td>0.908298</td>\n",
       "      <td>0.984716</td>\n",
       "      <td>0.982953</td>\n",
       "    </tr>\n",
       "    <tr>\n",
       "      <th>std</th>\n",
       "      <td>0.033426</td>\n",
       "      <td>0.039432</td>\n",
       "      <td>0.008642</td>\n",
       "      <td>0.009740</td>\n",
       "    </tr>\n",
       "    <tr>\n",
       "      <th>min</th>\n",
       "      <td>0.885246</td>\n",
       "      <td>0.875000</td>\n",
       "      <td>0.975460</td>\n",
       "      <td>0.969512</td>\n",
       "    </tr>\n",
       "    <tr>\n",
       "      <th>25%</th>\n",
       "      <td>0.903226</td>\n",
       "      <td>0.885246</td>\n",
       "      <td>0.975610</td>\n",
       "      <td>0.975778</td>\n",
       "    </tr>\n",
       "    <tr>\n",
       "      <th>50%</th>\n",
       "      <td>0.915254</td>\n",
       "      <td>0.892308</td>\n",
       "      <td>0.987952</td>\n",
       "      <td>0.987879</td>\n",
       "    </tr>\n",
       "    <tr>\n",
       "      <th>75%</th>\n",
       "      <td>0.947368</td>\n",
       "      <td>0.915254</td>\n",
       "      <td>0.990654</td>\n",
       "      <td>0.990712</td>\n",
       "    </tr>\n",
       "    <tr>\n",
       "      <th>max</th>\n",
       "      <td>0.967742</td>\n",
       "      <td>0.973684</td>\n",
       "      <td>0.993902</td>\n",
       "      <td>0.990881</td>\n",
       "    </tr>\n",
       "  </tbody>\n",
       "</table>\n",
       "</div>"
      ],
      "text/plain": [
       "        Model 1   Model 2   Model 3   Model 4\n",
       "count  5.000000  5.000000  5.000000  5.000000\n",
       "mean   0.923767  0.908298  0.984716  0.982953\n",
       "std    0.033426  0.039432  0.008642  0.009740\n",
       "min    0.885246  0.875000  0.975460  0.969512\n",
       "25%    0.903226  0.885246  0.975610  0.975778\n",
       "50%    0.915254  0.892308  0.987952  0.987879\n",
       "75%    0.947368  0.915254  0.990654  0.990712\n",
       "max    0.967742  0.973684  0.993902  0.990881"
      ]
     },
     "execution_count": 15,
     "metadata": {},
     "output_type": "execute_result"
    }
   ],
   "source": [
    "df_f1.describe(include='all')"
   ]
  },
  {
   "cell_type": "code",
   "execution_count": 16,
   "metadata": {},
   "outputs": [
    {
     "data": {
      "image/png": "[encoded data removed]",
      "text/plain": [
       "<Figure size 432x288 with 1 Axes>"
      ]
     },
     "metadata": {
      "needs_background": "light"
     },
     "output_type": "display_data"
    }
   ],
   "source": [
    "import matplotlib.pyplot as plt\n",
    "\n",
    "df_f1.plot(kind='box', figsize=(6, 4))\n",
    "\n",
    "plt.title('Box Plot F1-Score Model dari 5-Fold Cross Validation \\n', size=14)\n",
    "plt.show()"
   ]
  },
  {
   "cell_type": "code",
   "execution_count": 3,
   "metadata": {},
   "outputs": [
    {
     "data": {
      "text/html": [
       "<div>\n",
       "<style scoped>\n",
       "    .dataframe tbody tr th:only-of-type {\n",
       "        vertical-align: middle;\n",
       "    }\n",
       "\n",
       "    .dataframe tbody tr th {\n",
       "        vertical-align: top;\n",
       "    }\n",
       "\n",
       "    .dataframe thead th {\n",
       "        text-align: right;\n",
       "    }\n",
       "</style>\n",
       "<table border=\"1\" class=\"dataframe\">\n",
       "  <thead>\n",
       "    <tr style=\"text-align: right;\">\n",
       "      <th></th>\n",
       "      <th>Akurasi</th>\n",
       "      <th>AUC</th>\n",
       "      <th>Presisi</th>\n",
       "      <th>Recall</th>\n",
       "      <th>F1-Score</th>\n",
       "    </tr>\n",
       "  </thead>\n",
       "  <tbody>\n",
       "    <tr>\n",
       "      <th>0</th>\n",
       "      <td>0.977988</td>\n",
       "      <td>0.997599</td>\n",
       "      <td>0.959184</td>\n",
       "      <td>0.992958</td>\n",
       "      <td>0.975778</td>\n",
       "    </tr>\n",
       "    <tr>\n",
       "      <th>1</th>\n",
       "      <td>0.987421</td>\n",
       "      <td>0.997308</td>\n",
       "      <td>0.987805</td>\n",
       "      <td>0.993902</td>\n",
       "      <td>0.987879</td>\n",
       "    </tr>\n",
       "    <tr>\n",
       "      <th>2</th>\n",
       "      <td>0.968553</td>\n",
       "      <td>0.994340</td>\n",
       "      <td>0.969136</td>\n",
       "      <td>0.987730</td>\n",
       "      <td>0.969512</td>\n",
       "    </tr>\n",
       "    <tr>\n",
       "      <th>3</th>\n",
       "      <td>0.990536</td>\n",
       "      <td>0.998487</td>\n",
       "      <td>0.993789</td>\n",
       "      <td>0.987654</td>\n",
       "      <td>0.990712</td>\n",
       "    </tr>\n",
       "    <tr>\n",
       "      <th>4</th>\n",
       "      <td>0.990536</td>\n",
       "      <td>0.999163</td>\n",
       "      <td>0.981928</td>\n",
       "      <td>1.000000</td>\n",
       "      <td>0.990881</td>\n",
       "    </tr>\n",
       "  </tbody>\n",
       "</table>\n",
       "</div>"
      ],
      "text/plain": [
       "    Akurasi       AUC   Presisi    Recall  F1-Score\n",
       "0  0.977988  0.997599  0.959184  0.992958  0.975778\n",
       "1  0.987421  0.997308  0.987805  0.993902  0.987879\n",
       "2  0.968553  0.994340  0.969136  0.987730  0.969512\n",
       "3  0.990536  0.998487  0.993789  0.987654  0.990712\n",
       "4  0.990536  0.999163  0.981928  1.000000  0.990881"
      ]
     },
     "execution_count": 3,
     "metadata": {},
     "output_type": "execute_result"
    }
   ],
   "source": [
    "import pandas as pd\n",
    "\n",
    "data_cv = {'Akurasi': [0.9779875, 0.9874213, 0.9685534, 0.9905362, 0.9905362],\n",
    "        'AUC' : [0.9975992, 0.9973075, 0.994339996, 0.9984866, 0.9991634],\n",
    "        'Presisi': [0.9591836, 0.987804878, 0.9691358, 0.9937888, 0.9819277],\n",
    "        'Recall' : [0.9929577, 0.993902439, 0.9877300, 0.987654321, 1],\n",
    "        'F1-Score' : [0.9757785, 0.9878787, 0.9695121, 0.9907120, 0.99088145]}\n",
    "\n",
    "df_cv = pd.DataFrame(data_cv)\n",
    "\n",
    "df_cv.head(10)"
   ]
  },
  {
   "cell_type": "code",
   "execution_count": 4,
   "metadata": {},
   "outputs": [
    {
     "data": {
      "text/html": [
       "<div>\n",
       "<style scoped>\n",
       "    .dataframe tbody tr th:only-of-type {\n",
       "        vertical-align: middle;\n",
       "    }\n",
       "\n",
       "    .dataframe tbody tr th {\n",
       "        vertical-align: top;\n",
       "    }\n",
       "\n",
       "    .dataframe thead th {\n",
       "        text-align: right;\n",
       "    }\n",
       "</style>\n",
       "<table border=\"1\" class=\"dataframe\">\n",
       "  <thead>\n",
       "    <tr style=\"text-align: right;\">\n",
       "      <th></th>\n",
       "      <th>Akurasi</th>\n",
       "      <th>AUC</th>\n",
       "      <th>Presisi</th>\n",
       "      <th>Recall</th>\n",
       "      <th>F1-Score</th>\n",
       "    </tr>\n",
       "  </thead>\n",
       "  <tbody>\n",
       "    <tr>\n",
       "      <th>count</th>\n",
       "      <td>5.000000</td>\n",
       "      <td>5.000000</td>\n",
       "      <td>5.000000</td>\n",
       "      <td>5.000000</td>\n",
       "      <td>5.000000</td>\n",
       "    </tr>\n",
       "    <tr>\n",
       "      <th>mean</th>\n",
       "      <td>0.983007</td>\n",
       "      <td>0.997379</td>\n",
       "      <td>0.978368</td>\n",
       "      <td>0.992449</td>\n",
       "      <td>0.982953</td>\n",
       "    </tr>\n",
       "    <tr>\n",
       "      <th>std</th>\n",
       "      <td>0.009578</td>\n",
       "      <td>0.001851</td>\n",
       "      <td>0.014078</td>\n",
       "      <td>0.005115</td>\n",
       "      <td>0.009740</td>\n",
       "    </tr>\n",
       "    <tr>\n",
       "      <th>min</th>\n",
       "      <td>0.968553</td>\n",
       "      <td>0.994340</td>\n",
       "      <td>0.959184</td>\n",
       "      <td>0.987654</td>\n",
       "      <td>0.969512</td>\n",
       "    </tr>\n",
       "    <tr>\n",
       "      <th>25%</th>\n",
       "      <td>0.977988</td>\n",
       "      <td>0.997308</td>\n",
       "      <td>0.969136</td>\n",
       "      <td>0.987730</td>\n",
       "      <td>0.975778</td>\n",
       "    </tr>\n",
       "    <tr>\n",
       "      <th>50%</th>\n",
       "      <td>0.987421</td>\n",
       "      <td>0.997599</td>\n",
       "      <td>0.981928</td>\n",
       "      <td>0.992958</td>\n",
       "      <td>0.987879</td>\n",
       "    </tr>\n",
       "    <tr>\n",
       "      <th>75%</th>\n",
       "      <td>0.990536</td>\n",
       "      <td>0.998487</td>\n",
       "      <td>0.987805</td>\n",
       "      <td>0.993902</td>\n",
       "      <td>0.990712</td>\n",
       "    </tr>\n",
       "    <tr>\n",
       "      <th>max</th>\n",
       "      <td>0.990536</td>\n",
       "      <td>0.999163</td>\n",
       "      <td>0.993789</td>\n",
       "      <td>1.000000</td>\n",
       "      <td>0.990881</td>\n",
       "    </tr>\n",
       "  </tbody>\n",
       "</table>\n",
       "</div>"
      ],
      "text/plain": [
       "        Akurasi       AUC   Presisi    Recall  F1-Score\n",
       "count  5.000000  5.000000  5.000000  5.000000  5.000000\n",
       "mean   0.983007  0.997379  0.978368  0.992449  0.982953\n",
       "std    0.009578  0.001851  0.014078  0.005115  0.009740\n",
       "min    0.968553  0.994340  0.959184  0.987654  0.969512\n",
       "25%    0.977988  0.997308  0.969136  0.987730  0.975778\n",
       "50%    0.987421  0.997599  0.981928  0.992958  0.987879\n",
       "75%    0.990536  0.998487  0.987805  0.993902  0.990712\n",
       "max    0.990536  0.999163  0.993789  1.000000  0.990881"
      ]
     },
     "execution_count": 4,
     "metadata": {},
     "output_type": "execute_result"
    }
   ],
   "source": [
    "df_cv.describe(include='all')"
   ]
  },
  {
   "cell_type": "code",
   "execution_count": 6,
   "metadata": {},
   "outputs": [
    {
     "data": {
      "image/png": "[encoded data removed]",
      "text/plain": [
       "<Figure size 432x288 with 1 Axes>"
      ]
     },
     "metadata": {
      "needs_background": "light"
     },
     "output_type": "display_data"
    }
   ],
   "source": [
    "import matplotlib.pyplot as plt\n",
    "\n",
    "df_cv['Akurasi'].plot(kind='box', figsize=(6, 4))\n",
    "\n",
    "plt.title('Box Plot Akurasi Model4 dari 5-Fold Cross Validation \\n', size=14)\n",
    "plt.show()"
   ]
  },
  {
   "cell_type": "code",
   "execution_count": 11,
   "metadata": {},
   "outputs": [
    {
     "data": {
      "image/png": "[encoded data removed]",
      "text/plain": [
       "<Figure size 432x288 with 1 Axes>"
      ]
     },
     "metadata": {
      "needs_background": "light"
     },
     "output_type": "display_data"
    }
   ],
   "source": [
    "import matplotlib.pyplot as plt\n",
    "\n",
    "df_cv['AUC'].plot(kind='box', figsize=(6, 4))\n",
    "\n",
    "plt.title('Box Plot AUC Model4 dari 5-Fold Cross Validation \\n', size=14)\n",
    "plt.show()"
   ]
  },
  {
   "cell_type": "code",
   "execution_count": 12,
   "metadata": {},
   "outputs": [
    {
     "data": {
      "image/png": "[encoded data removed]",
      "text/plain": [
       "<Figure size 432x288 with 1 Axes>"
      ]
     },
     "metadata": {
      "needs_background": "light"
     },
     "output_type": "display_data"
    }
   ],
   "source": [
    "import matplotlib.pyplot as plt\n",
    "\n",
    "df_cv['Presisi'].plot(kind='box', figsize=(6, 4))\n",
    "\n",
    "plt.title('Box Plot Presisi Model4 dari 5-Fold Cross Validation \\n', size=14)\n",
    "plt.show()"
   ]
  },
  {
   "cell_type": "code",
   "execution_count": 13,
   "metadata": {},
   "outputs": [
    {
     "data": {
      "image/png": "[encoded data removed]",
      "text/plain": [
       "<Figure size 432x288 with 1 Axes>"
      ]
     },
     "metadata": {
      "needs_background": "light"
     },
     "output_type": "display_data"
    }
   ],
   "source": [
    "import matplotlib.pyplot as plt\n",
    "\n",
    "df_cv['Recall'].plot(kind='box', figsize=(6, 4))\n",
    "\n",
    "plt.title('Box Plot Recall Model4 dari 5-Fold Cross Validation \\n', size=14)\n",
    "plt.show()"
   ]
  },
  {
   "cell_type": "code",
   "execution_count": 14,
   "metadata": {},
   "outputs": [
    {
     "data": {
      "image/png": "[encoded data removed]",
      "text/plain": [
       "<Figure size 432x288 with 1 Axes>"
      ]
     },
     "metadata": {
      "needs_background": "light"
     },
     "output_type": "display_data"
    }
   ],
   "source": [
    "import matplotlib.pyplot as plt\n",
    "\n",
    "df_cv['F1-Score'].plot(kind='box', figsize=(6, 4))\n",
    "\n",
    "plt.title('Box Plot F1-Score Model4 dari 5-Fold Cross Validation \\n', size=14)\n",
    "plt.show()"
   ]
  },
  {
   "cell_type": "code",
   "execution_count": 51,
   "metadata": {},
   "outputs": [],
   "source": [
    "# Memisahkan fitur(x) dan label(y)\n",
    "x = df.drop('y', axis = 1)\n",
    "y = df.y"
   ]
  },
  {
   "cell_type": "code",
   "execution_count": 52,
   "metadata": {},
   "outputs": [
    {
     "name": "stdout",
     "output_type": "stream",
     "text": [
      "Satu 7\n",
      "Dua 3\n"
     ]
    },
    {
     "data": {
      "text/plain": [
       "Text(0.5, 1, 'Class Counts')"
      ]
     },
     "execution_count": 52,
     "metadata": {},
     "output_type": "execute_result"
    },
    {
     "data": {
      "image/png": "[encoded data removed]",
      "text/plain": [
       "<Figure size 360x288 with 1 Axes>"
      ]
     },
     "metadata": {
      "needs_background": "light"
     },
     "output_type": "display_data"
    }
   ],
   "source": [
    "# Menampilkan jumlah masing-masing kelas\n",
    "import matplotlib.pyplot as plt\n",
    "import seaborn as sns\n",
    "\n",
    "satu = df[df[\"y\"] == 1].shape[0]\n",
    "dua = df[df[\"y\"] == 2].shape[0]\n",
    "print(\"Satu\", satu)\n",
    "print(\"Dua\", dua) \n",
    "plt.figure(figsize=(5, 4))\n",
    "sns.countplot(df[\"y\"])\n",
    "plt.xticks((0, 1), [\"Satu\", \"Dua\"])\n",
    "plt.xlabel(\"\")\n",
    "plt.ylabel(\"Jumlah\")\n",
    "plt.title(\"Class Counts\", y=1, fontdict={\"fontsize\": 20})"
   ]
  },
  {
   "cell_type": "code",
   "execution_count": 54,
   "metadata": {},
   "outputs": [],
   "source": [
    "# Oversampling SMOTE-NC\n",
    "from imblearn.over_sampling import SMOTENC\n",
    "\n",
    "ovr = SMOTENC(random_state=0, categorical_features=[3], k_neighbors=2)\n",
    "x_over, y_over = ovr.fit_resample(x, y.ravel())"
   ]
  },
  {
   "cell_type": "code",
   "execution_count": 55,
   "metadata": {},
   "outputs": [],
   "source": [
    "x_table_smotenc = pd.DataFrame(x_over)\n",
    "y_table_smotenc = pd.DataFrame(y_over)\n",
    "balanced = pd.concat([y_table_smotenc, x_table_smotenc], axis=1)\n",
    "balanced = pd.DataFrame(balanced)\n",
    "\n",
    "balanced.columns = [\n",
    "    'y',\n",
    "    'x1',\n",
    "    'x2',\n",
    "    'x3',\n",
    "    'x4'\n",
    "]"
   ]
  },
  {
   "cell_type": "code",
   "execution_count": 56,
   "metadata": {},
   "outputs": [
    {
     "name": "stdout",
     "output_type": "stream",
     "text": [
      "Satu 7\n",
      "Dua 7\n"
     ]
    },
    {
     "data": {
      "text/plain": [
       "Text(0.5, 1, 'Class Counts')"
      ]
     },
     "execution_count": 56,
     "metadata": {},
     "output_type": "execute_result"
    },
    {
     "data": {
      "image/png": "[encoded data removed]",
      "text/plain": [
       "<Figure size 360x288 with 1 Axes>"
      ]
     },
     "metadata": {
      "needs_background": "light"
     },
     "output_type": "display_data"
    }
   ],
   "source": [
    "# Menampilkan jumlah masing-masing kelas\n",
    "\n",
    "satu = balanced[balanced[\"y\"] == 1].shape[0]\n",
    "dua = balanced[balanced[\"y\"] == 2].shape[0]\n",
    "print(\"Satu\", satu)\n",
    "print(\"Dua\", dua) \n",
    "plt.figure(figsize=(5, 4))\n",
    "sns.countplot(balanced[\"y\"])\n",
    "plt.xticks((0, 1), [\"Satu\", \"Dua\"])\n",
    "plt.xlabel(\"\")\n",
    "plt.ylabel(\"Jumlah\")\n",
    "plt.title(\"Class Counts\", y=1, fontdict={\"fontsize\": 20})"
   ]
  },
  {
   "cell_type": "code",
   "execution_count": 57,
   "metadata": {},
   "outputs": [
    {
     "data": {
      "text/html": [
       "<div>\n",
       "<style scoped>\n",
       "    .dataframe tbody tr th:only-of-type {\n",
       "        vertical-align: middle;\n",
       "    }\n",
       "\n",
       "    .dataframe tbody tr th {\n",
       "        vertical-align: top;\n",
       "    }\n",
       "\n",
       "    .dataframe thead th {\n",
       "        text-align: right;\n",
       "    }\n",
       "</style>\n",
       "<table border=\"1\" class=\"dataframe\">\n",
       "  <thead>\n",
       "    <tr style=\"text-align: right;\">\n",
       "      <th></th>\n",
       "      <th>y</th>\n",
       "      <th>x1</th>\n",
       "      <th>x2</th>\n",
       "      <th>x3</th>\n",
       "      <th>x4</th>\n",
       "    </tr>\n",
       "  </thead>\n",
       "  <tbody>\n",
       "    <tr>\n",
       "      <th>0</th>\n",
       "      <td>1</td>\n",
       "      <td>1</td>\n",
       "      <td>3</td>\n",
       "      <td>11</td>\n",
       "      <td>a</td>\n",
       "    </tr>\n",
       "    <tr>\n",
       "      <th>1</th>\n",
       "      <td>1</td>\n",
       "      <td>21</td>\n",
       "      <td>5</td>\n",
       "      <td>14</td>\n",
       "      <td>b</td>\n",
       "    </tr>\n",
       "    <tr>\n",
       "      <th>2</th>\n",
       "      <td>2</td>\n",
       "      <td>14</td>\n",
       "      <td>11</td>\n",
       "      <td>28</td>\n",
       "      <td>a</td>\n",
       "    </tr>\n",
       "    <tr>\n",
       "      <th>3</th>\n",
       "      <td>2</td>\n",
       "      <td>2</td>\n",
       "      <td>42</td>\n",
       "      <td>19</td>\n",
       "      <td>b</td>\n",
       "    </tr>\n",
       "    <tr>\n",
       "      <th>4</th>\n",
       "      <td>2</td>\n",
       "      <td>12</td>\n",
       "      <td>22</td>\n",
       "      <td>43</td>\n",
       "      <td>a</td>\n",
       "    </tr>\n",
       "    <tr>\n",
       "      <th>5</th>\n",
       "      <td>1</td>\n",
       "      <td>22</td>\n",
       "      <td>11</td>\n",
       "      <td>23</td>\n",
       "      <td>b</td>\n",
       "    </tr>\n",
       "    <tr>\n",
       "      <th>6</th>\n",
       "      <td>1</td>\n",
       "      <td>1</td>\n",
       "      <td>2</td>\n",
       "      <td>12</td>\n",
       "      <td>b</td>\n",
       "    </tr>\n",
       "    <tr>\n",
       "      <th>7</th>\n",
       "      <td>1</td>\n",
       "      <td>9</td>\n",
       "      <td>22</td>\n",
       "      <td>19</td>\n",
       "      <td>a</td>\n",
       "    </tr>\n",
       "    <tr>\n",
       "      <th>8</th>\n",
       "      <td>1</td>\n",
       "      <td>2</td>\n",
       "      <td>12</td>\n",
       "      <td>11</td>\n",
       "      <td>b</td>\n",
       "    </tr>\n",
       "    <tr>\n",
       "      <th>9</th>\n",
       "      <td>1</td>\n",
       "      <td>4</td>\n",
       "      <td>14</td>\n",
       "      <td>27</td>\n",
       "      <td>b</td>\n",
       "    </tr>\n",
       "    <tr>\n",
       "      <th>10</th>\n",
       "      <td>2</td>\n",
       "      <td>13</td>\n",
       "      <td>12</td>\n",
       "      <td>30</td>\n",
       "      <td>b</td>\n",
       "    </tr>\n",
       "    <tr>\n",
       "      <th>11</th>\n",
       "      <td>2</td>\n",
       "      <td>3</td>\n",
       "      <td>38</td>\n",
       "      <td>22</td>\n",
       "      <td>a</td>\n",
       "    </tr>\n",
       "    <tr>\n",
       "      <th>12</th>\n",
       "      <td>2</td>\n",
       "      <td>12</td>\n",
       "      <td>17</td>\n",
       "      <td>37</td>\n",
       "      <td>b</td>\n",
       "    </tr>\n",
       "    <tr>\n",
       "      <th>13</th>\n",
       "      <td>2</td>\n",
       "      <td>6</td>\n",
       "      <td>30</td>\n",
       "      <td>22</td>\n",
       "      <td>a</td>\n",
       "    </tr>\n",
       "  </tbody>\n",
       "</table>\n",
       "</div>"
      ],
      "text/plain": [
       "    y  x1  x2  x3 x4\n",
       "0   1   1   3  11  a\n",
       "1   1  21   5  14  b\n",
       "2   2  14  11  28  a\n",
       "3   2   2  42  19  b\n",
       "4   2  12  22  43  a\n",
       "5   1  22  11  23  b\n",
       "6   1   1   2  12  b\n",
       "7   1   9  22  19  a\n",
       "8   1   2  12  11  b\n",
       "9   1   4  14  27  b\n",
       "10  2  13  12  30  b\n",
       "11  2   3  38  22  a\n",
       "12  2  12  17  37  b\n",
       "13  2   6  30  22  a"
      ]
     },
     "execution_count": 57,
     "metadata": {},
     "output_type": "execute_result"
    }
   ],
   "source": [
    "balanced.head(15)"
   ]
  },
  {
   "cell_type": "code",
   "execution_count": 58,
   "metadata": {},
   "outputs": [
    {
     "data": {
      "text/plain": [
       "(14, 5)"
      ]
     },
     "execution_count": 58,
     "metadata": {},
     "output_type": "execute_result"
    }
   ],
   "source": [
    "balanced.shape"
   ]
  }
 ],
 "metadata": {
  "kernelspec": {
   "display_name": "Python 3",
   "language": "python",
   "name": "python3"
  },
  "language_info": {
   "codemirror_mode": {
    "name": "ipython",
    "version": 3
   },
   "file_extension": ".py",
   "mimetype": "text/x-python",
   "name": "python",
   "nbconvert_exporter": "python",
   "pygments_lexer": "ipython3",
   "version": "3.7.6"
  }
 },
 "nbformat": 4,
 "nbformat_minor": 4
}
